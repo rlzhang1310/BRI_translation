{
 "cells": [
  {
   "cell_type": "code",
   "execution_count": 1,
   "metadata": {},
   "outputs": [
    {
     "data": {
      "text/plain": [
       "Index(['Unnamed: 0', 'tweet_id', 'project_substring', 'tweet_text',\n",
       "       'tweet_language', 'project_country', 'CampaignID'],\n",
       "      dtype='object')"
      ]
     },
     "execution_count": 1,
     "metadata": {},
     "output_type": "execute_result"
    }
   ],
   "source": [
    "import pandas as pd\n",
    "df = pd.read_csv(\"~/Coding/buntain/sentiment_data/text_relevant_df.csv\", encoding='utf-8')\n",
    "df.columns"
   ]
  },
  {
   "cell_type": "code",
   "execution_count": 2,
   "metadata": {},
   "outputs": [
    {
     "name": "stderr",
     "output_type": "stream",
     "text": [
      "/Users/rlzhang1310/Library/Python/3.9/lib/python/site-packages/urllib3/__init__.py:34: NotOpenSSLWarning: urllib3 v2 only supports OpenSSL 1.1.1+, currently the 'ssl' module is compiled with 'LibreSSL 2.8.3'. See: https://github.com/urllib3/urllib3/issues/3020\n",
      "  warnings.warn(\n"
     ]
    }
   ],
   "source": [
    "import translators as ts\n",
    "### usage\n",
    "# _ = ts.preaccelerate_and_speedtest()  # Optional. Caching sessions in advance, which can help improve access speed."
   ]
  },
  {
   "cell_type": "code",
   "execution_count": 3,
   "metadata": {},
   "outputs": [],
   "source": [
    "en_neg = \"Man, the BRI Projects are really getting on my nerves!!! They are taking away all my tax money!!! >:(\"\n",
    "en_pos = \"Oh boy!! I love the recent belt and road projects that are happening in Asia, they are improving the roads\"\n",
    "\n",
    "in1 = \"Rendahkan Martabat peradilan, Rizieq Shihab dinilai bsa terancam pidana baru hakim sidang rizieq hrs tegas https://t.co/pY9yMuayHQ\"\n",
    "in2 = '''RT @kegobloganrpw: Liburan itu ga harus update insta story ke pantai \n",
    "\n",
    "Bangun siang juga liburan \n",
    "Tiduran di kasur juga liburan\n",
    "Ga mandi seha…'''\n",
    "in3 = \": Faris17 Ok Pak Faris, silakan ditunggu kembali konfirmasinya. -Yadi\"\n",
    "in4 = \": gullaway Kak, silakan coba untuk clear recent history browsernya lalu koneksi kembali. Thanks -Katy\"\n",
    "in4 = \"@oshvnx Yawlaah gua jamin gua lebih muda dri lu meuni tante😭\"\n",
    "\n",
    "in_ex1 = [in1, in2, in3, in4]\n"
   ]
  },
  {
   "cell_type": "code",
   "execution_count": 63,
   "metadata": {},
   "outputs": [
    {
     "name": "stdout",
     "output_type": "stream",
     "text": [
      "Hello, world!  Whats up?\n"
     ]
    }
   ],
   "source": [
    "import re\n",
    "\n",
    "remove_non_alphanumeric = lambda text: re.sub(r'[^\\w\\s,.?!]', '', text)\n"
   ]
  },
  {
   "cell_type": "code",
   "execution_count": 4,
   "metadata": {},
   "outputs": [
    {
     "name": "stderr",
     "output_type": "stream",
     "text": [
      "/var/folders/r4/sgr1zrxx0038xwsxj6n3k8900000gn/T/ipykernel_74790/3829737801.py:7: DeprecationWarning: DataFrameGroupBy.apply operated on the grouping columns. This behavior is deprecated, and in a future version of pandas the grouping columns will be excluded from the operation. Either pass `include_groups=False` to exclude the groupings or explicitly select the grouping columns after groupby to silence this warning.\n",
      "  sampled_df = filtered_df.groupby('tweet_language').apply(sample_texts)\n"
     ]
    },
    {
     "data": {
      "text/plain": [
       "{'en': ['RT @MirJunaidJKWP: I extend my congratulations to the forces for completely eliminating the terrorist group called Ansar Ghazwat ul Hind by…',\n",
       "  '@Whopppppppp @3Ioading @EXPRESSM00SE Laker. https://t.co/iBur9BO07V',\n",
       "  '#India increases #Defence budget by 6.2% #kashmir #KashmirHopePeace @myraemacdonald \\n\\nhttps://t.co/wWtD4AJs3r https://t.co/4mffmpO9Tc',\n",
       "  'RT @globaltimesnews: Congratulations! India successfully launched its latest earth observation satellite EOS-01 and nine customer satellite…',\n",
       "  'RT @liupheonix: The population of snub-nosed monkeys in the Yunnan National Park in Shangri-La, Yunnan Province, has increased to more than…',\n",
       "  \"RT @MendycouchMe: Changing life depends on one's own efforts. Reading is only a step. It's too pessimistic. It's not self-confident. https:…\",\n",
       "  'ItsFoodPorn: Pancake Goals https://t.co/fld8avCNzF',\n",
       "  '@beti_kashmir A Terrorist turned soldier, who was awarded with Ashok Chakra posthumously, L/Nk Nazir Ahmed Wani, made supreme sacrifice on this day, 2 yrs ago in an encounter with terrorists.\\n\\nHe is the real hero of #Kashmir &amp; not a poster boy!!!\\n#SaturdayThoughts  #SaturdayMotivation https://t.co/jrcCvlbIfI',\n",
       "  '@hafiftenalemm @fb3dc80b8a5449c @Adelita_Isabel @Lightbulbmia @lbeck497 Subscribe to my Channel: https://t.co/uwAYLohN32',\n",
       "  \"@CaoAhMan @AMFChina @amchina You can see the bigger the country is, the harder to increase GDP/PC. TW's rapid growth was under KMT rule. TW's growth slowed since democracy in 1996. Can we say TW would do better if no democracy?\"],\n",
       " 'in': ['Fa_Thoni Sama-sama Kak Fathoni. Laporannya  kami  follow up kembali agar segera diperbaikan jaringan teleponnya. Thx -Aziz',\n",
       "  'TokopediaCare: Emisalpiati -- dan transaksi dibatalkan, maka dana akan dikembalikan ke limit kartu kredit. Lamanya proses pengembalian terg…',\n",
       "  'Telkomsel: nursinaga Terima kasih telah berpartisipasi. Yuk posting baru sebanyak-banyaknya agar kesempatan menang menjadi lebih besar :) -…',\n",
       "  'JNECare: ysyahputra Terima kasih jg sdh menggunakan jasa JNE. Jika ada hal lain yg akan ditanyakan, mhn tdk ragu menghubungi kami kembali..…',\n",
       "  'IndosatCare: maulanainggar Kak, sudah kita balas via DM ya, cek kembali. Thanks ^Dia',\n",
       "  'Ingat yaa, pandemi Covid-19 belum usai! Pastikan selalu menjalani dan mematuhi protokol kesehatan 5M jika harus keluar rumah. Jalani peraturan PPKM, jangan lengah serta sukseskan vaksinasi. Bersama #KitaPastiBisa https://t.co/3ThifHJVgb',\n",
       "  '@RPAutoBase biarin aja jean yang balas dm nya kalau dia ajak aku balikan @hynjien',\n",
       "  'Telkomsel: satrio1605  Terima kasih telah berpartisipasi. Buat postingan baru sebanyak-banyaknya agar kesempatan menang lebih besar :) -Hime',\n",
       "  'RT @achanCKT48: \"@Bismakarismol: baru kali ini gua ngerasain gempa enak ye mau lagi loh gua wkwkwks\"',\n",
       "  ': vr_gita Mhn maaf utk menjaga keamanan &amp; kerahasiaan data dpt mengirimkan kembali permasalahan tsb via email https://t.co/D6p8qE8Wfc (stf)'],\n",
       " 'ur': ['مستقبل کو روشن کرنا\\n#KashmirCries  #KashmirBleeds  #KashmirYouthDaBest  #LifeChangingThoughts\\n#ThursdayThoughts @NooriBadat https://t.co/e0xtwAgoyM',\n",
       "  'RT @ppp0027: أَسْتَغْفِرُ اللَّهَ الْعَظِيمَ الَّذِى لاَ إِلَهَ إِلاَّ هُوَ الْحَىُّ الْقَيُّومُ وَأَتُوبُ إِلَيْهِ',\n",
       "  '@Rafiya8Khan @mudasse75552491 @D_of_Kashmir @AbdulHa55969857 @ImranKhanPTI @Altaf_98_Khan @ZohaibZahidKhan @waniriffat @inamgardazi1 @WaseemPall کشمیریوں نے پاکستانی پرچم کو آپنا کفن بنادیا ہے',\n",
       "  'RT @a_ahmedraja: @beti_kashmir ان شاء اللہ کشمیر آزاد ہوگا',\n",
       "  'RT @AaqaSAWWkibaten: ابن عمر رض فرماتےہیں کہ میں نےرسول اللہ صلی اللہ علیہ وسلم کو فرماتے سنا:\\n“میں سویا ہوا تھا کہ اس دوران میرے پاس دودھ…',\n",
       "  '@D_of_Kashmir @AbdulHa55969857 @ImranKhanPTI @Altaf_98_Khan @ZohaibZahidKhan @waniriffat @inamgardazi1 @WaseemPall @Rafiya8Khan @mudasse75552491 کشمیر کی جدوجہد آزادی کا محور دراصل وہ آفاقی نظریہ ہے جو پاکستان کا ہے۔ کشمیر پاکستان کا اٹوٹ انگ ہے۔ کشمیریوں کا اصل وطن پاکستان ہی ہے',\n",
       "  '@a_ahmedraja انشاءلله ضرور ہوگا کشمیر آزاد',\n",
       "  'RT @AaqaSAWWkibaten: ابن عمر رض فرماتےہیں کہ میں نےرسول اللہ صلی اللہ علیہ وسلم کو فرماتے سنا:\\n“میں سویا ہوا تھا کہ اس دوران میرے پاس دودھ…',\n",
       "  'RT @AaqaSAWWkibaten: رسول اللہ صلی اللہ علیہ وسلم نے فرمایا: \\n\\n“صدقہ رب کے غصے کو بجھا دیتا ہے اور بری موت سے بچاتا ہے“۔ \\n\\n (جامع ترمذی،۶۶۴)',\n",
       "  'ابھی تک کشمیر میں 2 جی ٹھیک سے نہیں چلاتا گورمنٹ بولتی ہیں کشمیر میں 5 جی چلا ئیں گے \\nکشمیر کے لوگوں کو بےقوف سمجتے ہے یہ لوگ .\\n                                                                                        #kashmirvalley\\n#Kashmir #COVID19 https://t.co/YxjHS8am1W'],\n",
       " 'zh': ['@deumbjxanev @zhennybaby19 李一平，为了私利，骗取支持资金进行的全民共振持续不下去了吧，无耻！https://t.co/EZi2F4bxXg',\n",
       "  '郭文贵自导自演无人机穿帮\\nhttps://t.co/deO4bIKF29',\n",
       "  '南京一所高校近日开放的自修室吸引了不少学生纷纷前来“打卡”。走进自修室，装满精装书籍的书柜依墙伫立，深色桌椅、棕色拼花木地板、褐色拱形窗户朴素典雅，桌上的亮绿色台灯古色古香，房间每个角落都透着古典美。 https://t.co/gEatYztnbY',\n",
       "  'RT @s0C5ENPso44bAzd: @sfdgfilj @ertgfdglljl @yhuikhjg @YMnypYK8NHcxIrD @rgSWKzmfJWX4fpA @KwokMilesGWG 文贵滚球 https://t.co/lTuiCsutmG',\n",
       "  '27日晚，中国第二届青年运动会(青海西宁赛区)篮球项目一场比赛中，一群篮球少年的表演让人眼前一亮。他们控球动作熟练，并不时变换各种姿势。这基本功，很扎实嘛~ 😄🏀 https://t.co/6r8aEnLF5c',\n",
       "  'RT @cleangath: 22日，聯合調查組已經將調查中發現的王林清涉嫌非法獲取、故意泄露國家秘密犯罪線索移交公安機關立案偵查，將閆長林涉嫌違規過問案件違紀違法問題移交紀檢監察機關立案審查調查。\\n最高法院存在內部管理不規範、保密制度落實不到位等問題，責成最高法院認真整改。h…',\n",
       "  '文贵压力大 精神有问题 https://t.co/O4bQvscR5r 来自 @YouTube',\n",
       "  'RT @TheHillTravel_: #香港 #HongKong #逃犯條例 #游行 #民陣 美國政府不斷對香港說三道四，煽動群眾，搞亂香港民生及市民生活。 https://t.co/94bABfa6LS',\n",
       "  'RT @feituji1994: 总是把自己包装的很“正义”，是“自由”、“民主”的代言人！看看香港人是怎么说的？！那一小部分人不能代表香港，他们只是最卑微“暴徒”！#HongKong #HK #香港 #逃犯条例 https://t.co/rg4bOvDzh1',\n",
       "  'RT @feituji1994: 总是把自己包装的很“正义”，是“自由”、“民主”的代言人！看看香港人是怎么说的？！那一小部分人不能代表香港，他们只是最卑微“暴徒”！#HongKong #HK #香港 #逃犯条例 https://t.co/rg4bOvDzh1'],\n",
       " 'ar': ['RT @27a04bc8ab7f4fc: رَبي لا تَكسَر لي قلباً ولا تصَعب عليّ أمَراً ..ولا تَحرمنِي مَن تعّلقت به الرُوح ..واحَفظ لي عائلتَي وأحَبتي ..ومَن أ…',\n",
       "  'صباحك ورد https://t.co/2APPQvB8aA',\n",
       "  'RT @asoooma78art: لا تنسونه من صالح دعاؤكم\\n\\nالمغفور له بإذن الله\\n\\nالشيخ : جابر الأحمد الجابر الصباح\\nطيب الله ثراه \\nمن اعمالي بورتريه امير ا…',\n",
       "  'RT @nawar_aldfeery: \"لا يقلق من كان له أب.. فكيف بمن كان له رب\" ؟!!\\nربنا عليك توكلنا وإليك أنبنا وإليك المصير..',\n",
       "  'RT @esh6a: ربّ حصن قلوبنا م هموم الدُنيا\\nوأفتح علينا أبواب الفرح والتوفيق \\n.\\n.\\n#يوم_الجمعة \\n#رمضان https://t.co/b4bqzVpjGP',\n",
       "  'RT @AmerMedraj: مؤجعه تلك الذكريات التي تمر بنا عندما نتذكر اننا كنا كل شي لبعضهم ..!',\n",
       "  'RT @sh3r_79: \"\\nقهوتي كفيله بتعديل مزاجي ،،،✨💦\\n\"\\n\" https://t.co/DQPP4bBuNx',\n",
       "  'RT @toma0010: أغمِسُ\\nخيباتي\\nفي\\nوهجِ\\nقناديلَ\\nمن\\nنور\\nل تسطع روحي\\nمن جديد ... ذات ثقةٍ .. ب / خالقي🌸💕 https://t.co/5Iw4bylYJi',\n",
       "  'RT @Mr_tweeets: ❀ مابين ❀\\nصخر وصخر ينبت الزهر ومابين عسر وعسر ينبت اليسر فسبحان من بيده الملك والامر\\nʏɑʜʏɑ✍ http://t.co/unRdbqN8an',\n",
       "  'RT @saad_albar8awi: الله يادنيا النصر كان يتصدر و ابن امه يقرب للصداره والحين الصداره حاطه يدها على خدها وتقول وش جابني للزلايب ذولا؟'],\n",
       " 'th': ['ที่กรีซพัง สาเหตุหลักๆคือ เทพกรีกหนีมาอยู่ไทยครับ โพเซดอน อพอลโล่ เพอซิอุส ม้าในตำนาน พีกาซัส เซย่า ก็เช่นกัน http://t.co/5l0oq68aZx',\n",
       "  '@ooppp76955509 ท่านนั่งอยู่ข้าง ๆ ครับ มึงจะโหน มึงควรตั้งสติด้วย... https://t.co/ZTWnrJB76N',\n",
       "  '@paritchi คนส่วนใหญ่ที่เขามีกฎหมายเคารพกฎหมาย',\n",
       "  'RT @paritchi: นับตั้งแต่ปี 53 มา ท่านผู้บัญชาการทหารบกยังถือเป็นทหารอยู่ไหมครับ https://t.co/V9lKgkY2IR',\n",
       "  'RT @ppppanddr_: Terminal คือเหยื่อที่น่าสงสารสุดเหมือนกันนะ จะมีห้างที่ไหนบ้างมีเงินแค่30บาทแต่กินข้าวอิ่ม มีน้ารปภ.ที่คอยยืนต้อนรับพร้อมกั…',\n",
       "  '@yC3Uyqy4yeHsZcq @ooppp76955509 คือ เอาเรื่องพวกนี้ มาปั่นทวิต สร้างความเกลียดชังกันเข้าไปอีก ไม่เข้าใจมันจริง ๆ',\n",
       "  'RT @paritchi: ดีนะ ไม่หาว่าซื้ออาวุธให้นักศึกษาเอาไปซ่อนในอุโมงค์ลับที่ท่าพระจันทร์ https://t.co/ZBxmvTfRYx',\n",
       "  'RT Sawarinni: มีพบก็ต้องมีจาก เป็นเรื่องปกติ',\n",
       "  'RT @wannasukhaphala: สวยมากลูก #EUNSEO https://t.co/Xt4bhz8Uln',\n",
       "  '@HimawariJapa @aorwiki @PPRP_Unofficial พองหนอ']}"
      ]
     },
     "execution_count": 4,
     "metadata": {},
     "output_type": "execute_result"
    }
   ],
   "source": [
    "languages = ['en', 'in', 'ur', 'zh', 'ar', 'th']  \n",
    "\n",
    "def sample_texts(group):\n",
    "    return group.sample(n=10, replace=True)\n",
    "\n",
    "filtered_df = df[df['tweet_language'].isin(languages)]\n",
    "sampled_df = filtered_df.groupby('tweet_language').apply(sample_texts)\n",
    "sampled_df = sampled_df.reset_index(drop=True)\n",
    "sample_texts_dict = {lang: sampled_df[sampled_df['tweet_language'] == lang]['tweet_text'].tolist() for lang in languages}\n",
    "sample_texts_dict"
   ]
  },
  {
   "cell_type": "code",
   "execution_count": 70,
   "metadata": {},
   "outputs": [
    {
     "ename": "ValueError",
     "evalue": "[E002] Can't find factory for 'curated_transformer' for language English (en). This usually happens when spaCy calls `nlp.create_pipe` with a custom component name that's not registered on the current language class. If you're using a custom component, make sure you've added the decorator `@Language.component` (for function components) or `@Language.factory` (for class components).\n\nAvailable factories: attribute_ruler, tok2vec, merge_noun_chunks, merge_entities, merge_subtokens, token_splitter, doc_cleaner, parser, beam_parser, lemmatizer, trainable_lemmatizer, entity_linker, entity_ruler, tagger, morphologizer, ner, beam_ner, senter, sentencizer, spancat, spancat_singlelabel, span_finder, future_entity_ruler, span_ruler, textcat, textcat_multilabel, spacytextblob, en.lemmatizer",
     "output_type": "error",
     "traceback": [
      "\u001b[0;31m---------------------------------------------------------------------------\u001b[0m",
      "\u001b[0;31mValueError\u001b[0m                                Traceback (most recent call last)",
      "Cell \u001b[0;32mIn[70], line 9\u001b[0m\n\u001b[1;32m      1\u001b[0m \u001b[38;5;66;03m# Translators\u001b[39;00m\n\u001b[1;32m      2\u001b[0m \u001b[38;5;66;03m# https://github.com/uliontse/translators#features\u001b[39;00m\n\u001b[1;32m      3\u001b[0m \u001b[38;5;66;03m# from_language\u001b[39;00m\n\u001b[1;32m      4\u001b[0m \u001b[38;5;66;03m# to_language\u001b[39;00m\n\u001b[1;32m      5\u001b[0m \u001b[38;5;66;03m# q_text = '季姬寂，集鸡，鸡即棘鸡。棘鸡饥叽，季姬及箕稷济鸡。'\u001b[39;00m\n\u001b[1;32m      6\u001b[0m \u001b[38;5;66;03m# print(ts.translate_text(q_text))\u001b[39;00m\n\u001b[1;32m      8\u001b[0m text1 \u001b[38;5;241m=\u001b[39m \u001b[38;5;124m\"\u001b[39m\u001b[38;5;124mDespite lofty promises, the China-Laos Railway, a controversial Belt and Road Initiative project, has sparked concerns about debt dependency and environmental degradation, casting a shadow over its potential benefits.\u001b[39m\u001b[38;5;124m\"\u001b[39m\n\u001b[0;32m----> 9\u001b[0m en_nlp \u001b[38;5;241m=\u001b[39m \u001b[43mspacy\u001b[49m\u001b[38;5;241;43m.\u001b[39;49m\u001b[43mload\u001b[49m\u001b[43m(\u001b[49m\u001b[38;5;124;43m'\u001b[39;49m\u001b[38;5;124;43men_core_web_trf\u001b[39;49m\u001b[38;5;124;43m'\u001b[39;49m\u001b[43m)\u001b[49m\n\u001b[1;32m     10\u001b[0m en_nlp\u001b[38;5;241m.\u001b[39madd_pipe(\u001b[38;5;124m'\u001b[39m\u001b[38;5;124mspacytextblob\u001b[39m\u001b[38;5;124m'\u001b[39m)\n\u001b[1;32m     12\u001b[0m \u001b[38;5;28;01mdef\u001b[39;00m \u001b[38;5;21mts_tester\u001b[39m(text):\n",
      "File \u001b[0;32m~/Library/Python/3.9/lib/python/site-packages/spacy/__init__.py:51\u001b[0m, in \u001b[0;36mload\u001b[0;34m(name, vocab, disable, enable, exclude, config)\u001b[0m\n\u001b[1;32m     27\u001b[0m \u001b[38;5;28;01mdef\u001b[39;00m \u001b[38;5;21mload\u001b[39m(\n\u001b[1;32m     28\u001b[0m     name: Union[\u001b[38;5;28mstr\u001b[39m, Path],\n\u001b[1;32m     29\u001b[0m     \u001b[38;5;241m*\u001b[39m,\n\u001b[0;32m   (...)\u001b[0m\n\u001b[1;32m     34\u001b[0m     config: Union[Dict[\u001b[38;5;28mstr\u001b[39m, Any], Config] \u001b[38;5;241m=\u001b[39m util\u001b[38;5;241m.\u001b[39mSimpleFrozenDict(),\n\u001b[1;32m     35\u001b[0m ) \u001b[38;5;241m-\u001b[39m\u001b[38;5;241m>\u001b[39m Language:\n\u001b[1;32m     36\u001b[0m \u001b[38;5;250m    \u001b[39m\u001b[38;5;124;03m\"\"\"Load a spaCy model from an installed package or a local path.\u001b[39;00m\n\u001b[1;32m     37\u001b[0m \n\u001b[1;32m     38\u001b[0m \u001b[38;5;124;03m    name (str): Package name or model path.\u001b[39;00m\n\u001b[0;32m   (...)\u001b[0m\n\u001b[1;32m     49\u001b[0m \u001b[38;5;124;03m    RETURNS (Language): The loaded nlp object.\u001b[39;00m\n\u001b[1;32m     50\u001b[0m \u001b[38;5;124;03m    \"\"\"\u001b[39;00m\n\u001b[0;32m---> 51\u001b[0m     \u001b[38;5;28;01mreturn\u001b[39;00m \u001b[43mutil\u001b[49m\u001b[38;5;241;43m.\u001b[39;49m\u001b[43mload_model\u001b[49m\u001b[43m(\u001b[49m\n\u001b[1;32m     52\u001b[0m \u001b[43m        \u001b[49m\u001b[43mname\u001b[49m\u001b[43m,\u001b[49m\n\u001b[1;32m     53\u001b[0m \u001b[43m        \u001b[49m\u001b[43mvocab\u001b[49m\u001b[38;5;241;43m=\u001b[39;49m\u001b[43mvocab\u001b[49m\u001b[43m,\u001b[49m\n\u001b[1;32m     54\u001b[0m \u001b[43m        \u001b[49m\u001b[43mdisable\u001b[49m\u001b[38;5;241;43m=\u001b[39;49m\u001b[43mdisable\u001b[49m\u001b[43m,\u001b[49m\n\u001b[1;32m     55\u001b[0m \u001b[43m        \u001b[49m\u001b[43menable\u001b[49m\u001b[38;5;241;43m=\u001b[39;49m\u001b[43menable\u001b[49m\u001b[43m,\u001b[49m\n\u001b[1;32m     56\u001b[0m \u001b[43m        \u001b[49m\u001b[43mexclude\u001b[49m\u001b[38;5;241;43m=\u001b[39;49m\u001b[43mexclude\u001b[49m\u001b[43m,\u001b[49m\n\u001b[1;32m     57\u001b[0m \u001b[43m        \u001b[49m\u001b[43mconfig\u001b[49m\u001b[38;5;241;43m=\u001b[39;49m\u001b[43mconfig\u001b[49m\u001b[43m,\u001b[49m\n\u001b[1;32m     58\u001b[0m \u001b[43m    \u001b[49m\u001b[43m)\u001b[49m\n",
      "File \u001b[0;32m~/Library/Python/3.9/lib/python/site-packages/spacy/util.py:465\u001b[0m, in \u001b[0;36mload_model\u001b[0;34m(name, vocab, disable, enable, exclude, config)\u001b[0m\n\u001b[1;32m    463\u001b[0m     \u001b[38;5;28;01mreturn\u001b[39;00m get_lang_class(name\u001b[38;5;241m.\u001b[39mreplace(\u001b[38;5;124m\"\u001b[39m\u001b[38;5;124mblank:\u001b[39m\u001b[38;5;124m\"\u001b[39m, \u001b[38;5;124m\"\u001b[39m\u001b[38;5;124m\"\u001b[39m))()\n\u001b[1;32m    464\u001b[0m \u001b[38;5;28;01mif\u001b[39;00m is_package(name):  \u001b[38;5;66;03m# installed as package\u001b[39;00m\n\u001b[0;32m--> 465\u001b[0m     \u001b[38;5;28;01mreturn\u001b[39;00m \u001b[43mload_model_from_package\u001b[49m\u001b[43m(\u001b[49m\u001b[43mname\u001b[49m\u001b[43m,\u001b[49m\u001b[43m \u001b[49m\u001b[38;5;241;43m*\u001b[39;49m\u001b[38;5;241;43m*\u001b[39;49m\u001b[43mkwargs\u001b[49m\u001b[43m)\u001b[49m  \u001b[38;5;66;03m# type: ignore[arg-type]\u001b[39;00m\n\u001b[1;32m    466\u001b[0m \u001b[38;5;28;01mif\u001b[39;00m Path(name)\u001b[38;5;241m.\u001b[39mexists():  \u001b[38;5;66;03m# path to model data directory\u001b[39;00m\n\u001b[1;32m    467\u001b[0m     \u001b[38;5;28;01mreturn\u001b[39;00m load_model_from_path(Path(name), \u001b[38;5;241m*\u001b[39m\u001b[38;5;241m*\u001b[39mkwargs)  \u001b[38;5;66;03m# type: ignore[arg-type]\u001b[39;00m\n",
      "File \u001b[0;32m~/Library/Python/3.9/lib/python/site-packages/spacy/util.py:501\u001b[0m, in \u001b[0;36mload_model_from_package\u001b[0;34m(name, vocab, disable, enable, exclude, config)\u001b[0m\n\u001b[1;32m    484\u001b[0m \u001b[38;5;250m\u001b[39m\u001b[38;5;124;03m\"\"\"Load a model from an installed package.\u001b[39;00m\n\u001b[1;32m    485\u001b[0m \n\u001b[1;32m    486\u001b[0m \u001b[38;5;124;03mname (str): The package name.\u001b[39;00m\n\u001b[0;32m   (...)\u001b[0m\n\u001b[1;32m    498\u001b[0m \u001b[38;5;124;03mRETURNS (Language): The loaded nlp object.\u001b[39;00m\n\u001b[1;32m    499\u001b[0m \u001b[38;5;124;03m\"\"\"\u001b[39;00m\n\u001b[1;32m    500\u001b[0m \u001b[38;5;28mcls\u001b[39m \u001b[38;5;241m=\u001b[39m importlib\u001b[38;5;241m.\u001b[39mimport_module(name)\n\u001b[0;32m--> 501\u001b[0m \u001b[38;5;28;01mreturn\u001b[39;00m \u001b[38;5;28;43mcls\u001b[39;49m\u001b[38;5;241;43m.\u001b[39;49m\u001b[43mload\u001b[49m\u001b[43m(\u001b[49m\u001b[43mvocab\u001b[49m\u001b[38;5;241;43m=\u001b[39;49m\u001b[43mvocab\u001b[49m\u001b[43m,\u001b[49m\u001b[43m \u001b[49m\u001b[43mdisable\u001b[49m\u001b[38;5;241;43m=\u001b[39;49m\u001b[43mdisable\u001b[49m\u001b[43m,\u001b[49m\u001b[43m \u001b[49m\u001b[43menable\u001b[49m\u001b[38;5;241;43m=\u001b[39;49m\u001b[43menable\u001b[49m\u001b[43m,\u001b[49m\u001b[43m \u001b[49m\u001b[43mexclude\u001b[49m\u001b[38;5;241;43m=\u001b[39;49m\u001b[43mexclude\u001b[49m\u001b[43m,\u001b[49m\u001b[43m \u001b[49m\u001b[43mconfig\u001b[49m\u001b[38;5;241;43m=\u001b[39;49m\u001b[43mconfig\u001b[49m\u001b[43m)\u001b[49m\n",
      "File \u001b[0;32m~/Library/Python/3.9/lib/python/site-packages/en_core_web_trf/__init__.py:10\u001b[0m, in \u001b[0;36mload\u001b[0;34m(**overrides)\u001b[0m\n\u001b[1;32m      9\u001b[0m \u001b[38;5;28;01mdef\u001b[39;00m \u001b[38;5;21mload\u001b[39m(\u001b[38;5;241m*\u001b[39m\u001b[38;5;241m*\u001b[39moverrides):\n\u001b[0;32m---> 10\u001b[0m     \u001b[38;5;28;01mreturn\u001b[39;00m \u001b[43mload_model_from_init_py\u001b[49m\u001b[43m(\u001b[49m\u001b[38;5;18;43m__file__\u001b[39;49m\u001b[43m,\u001b[49m\u001b[43m \u001b[49m\u001b[38;5;241;43m*\u001b[39;49m\u001b[38;5;241;43m*\u001b[39;49m\u001b[43moverrides\u001b[49m\u001b[43m)\u001b[49m\n",
      "File \u001b[0;32m~/Library/Python/3.9/lib/python/site-packages/spacy/util.py:682\u001b[0m, in \u001b[0;36mload_model_from_init_py\u001b[0;34m(init_file, vocab, disable, enable, exclude, config)\u001b[0m\n\u001b[1;32m    680\u001b[0m \u001b[38;5;28;01mif\u001b[39;00m \u001b[38;5;129;01mnot\u001b[39;00m model_path\u001b[38;5;241m.\u001b[39mexists():\n\u001b[1;32m    681\u001b[0m     \u001b[38;5;28;01mraise\u001b[39;00m \u001b[38;5;167;01mIOError\u001b[39;00m(Errors\u001b[38;5;241m.\u001b[39mE052\u001b[38;5;241m.\u001b[39mformat(path\u001b[38;5;241m=\u001b[39mdata_path))\n\u001b[0;32m--> 682\u001b[0m \u001b[38;5;28;01mreturn\u001b[39;00m \u001b[43mload_model_from_path\u001b[49m\u001b[43m(\u001b[49m\n\u001b[1;32m    683\u001b[0m \u001b[43m    \u001b[49m\u001b[43mdata_path\u001b[49m\u001b[43m,\u001b[49m\n\u001b[1;32m    684\u001b[0m \u001b[43m    \u001b[49m\u001b[43mvocab\u001b[49m\u001b[38;5;241;43m=\u001b[39;49m\u001b[43mvocab\u001b[49m\u001b[43m,\u001b[49m\n\u001b[1;32m    685\u001b[0m \u001b[43m    \u001b[49m\u001b[43mmeta\u001b[49m\u001b[38;5;241;43m=\u001b[39;49m\u001b[43mmeta\u001b[49m\u001b[43m,\u001b[49m\n\u001b[1;32m    686\u001b[0m \u001b[43m    \u001b[49m\u001b[43mdisable\u001b[49m\u001b[38;5;241;43m=\u001b[39;49m\u001b[43mdisable\u001b[49m\u001b[43m,\u001b[49m\n\u001b[1;32m    687\u001b[0m \u001b[43m    \u001b[49m\u001b[43menable\u001b[49m\u001b[38;5;241;43m=\u001b[39;49m\u001b[43menable\u001b[49m\u001b[43m,\u001b[49m\n\u001b[1;32m    688\u001b[0m \u001b[43m    \u001b[49m\u001b[43mexclude\u001b[49m\u001b[38;5;241;43m=\u001b[39;49m\u001b[43mexclude\u001b[49m\u001b[43m,\u001b[49m\n\u001b[1;32m    689\u001b[0m \u001b[43m    \u001b[49m\u001b[43mconfig\u001b[49m\u001b[38;5;241;43m=\u001b[39;49m\u001b[43mconfig\u001b[49m\u001b[43m,\u001b[49m\n\u001b[1;32m    690\u001b[0m \u001b[43m\u001b[49m\u001b[43m)\u001b[49m\n",
      "File \u001b[0;32m~/Library/Python/3.9/lib/python/site-packages/spacy/util.py:539\u001b[0m, in \u001b[0;36mload_model_from_path\u001b[0;34m(model_path, meta, vocab, disable, enable, exclude, config)\u001b[0m\n\u001b[1;32m    537\u001b[0m overrides \u001b[38;5;241m=\u001b[39m dict_to_dot(config, for_overrides\u001b[38;5;241m=\u001b[39m\u001b[38;5;28;01mTrue\u001b[39;00m)\n\u001b[1;32m    538\u001b[0m config \u001b[38;5;241m=\u001b[39m load_config(config_path, overrides\u001b[38;5;241m=\u001b[39moverrides)\n\u001b[0;32m--> 539\u001b[0m nlp \u001b[38;5;241m=\u001b[39m \u001b[43mload_model_from_config\u001b[49m\u001b[43m(\u001b[49m\n\u001b[1;32m    540\u001b[0m \u001b[43m    \u001b[49m\u001b[43mconfig\u001b[49m\u001b[43m,\u001b[49m\n\u001b[1;32m    541\u001b[0m \u001b[43m    \u001b[49m\u001b[43mvocab\u001b[49m\u001b[38;5;241;43m=\u001b[39;49m\u001b[43mvocab\u001b[49m\u001b[43m,\u001b[49m\n\u001b[1;32m    542\u001b[0m \u001b[43m    \u001b[49m\u001b[43mdisable\u001b[49m\u001b[38;5;241;43m=\u001b[39;49m\u001b[43mdisable\u001b[49m\u001b[43m,\u001b[49m\n\u001b[1;32m    543\u001b[0m \u001b[43m    \u001b[49m\u001b[43menable\u001b[49m\u001b[38;5;241;43m=\u001b[39;49m\u001b[43menable\u001b[49m\u001b[43m,\u001b[49m\n\u001b[1;32m    544\u001b[0m \u001b[43m    \u001b[49m\u001b[43mexclude\u001b[49m\u001b[38;5;241;43m=\u001b[39;49m\u001b[43mexclude\u001b[49m\u001b[43m,\u001b[49m\n\u001b[1;32m    545\u001b[0m \u001b[43m    \u001b[49m\u001b[43mmeta\u001b[49m\u001b[38;5;241;43m=\u001b[39;49m\u001b[43mmeta\u001b[49m\u001b[43m,\u001b[49m\n\u001b[1;32m    546\u001b[0m \u001b[43m\u001b[49m\u001b[43m)\u001b[49m\n\u001b[1;32m    547\u001b[0m \u001b[38;5;28;01mreturn\u001b[39;00m nlp\u001b[38;5;241m.\u001b[39mfrom_disk(model_path, exclude\u001b[38;5;241m=\u001b[39mexclude, overrides\u001b[38;5;241m=\u001b[39moverrides)\n",
      "File \u001b[0;32m~/Library/Python/3.9/lib/python/site-packages/spacy/util.py:587\u001b[0m, in \u001b[0;36mload_model_from_config\u001b[0;34m(config, meta, vocab, disable, enable, exclude, auto_fill, validate)\u001b[0m\n\u001b[1;32m    584\u001b[0m \u001b[38;5;66;03m# This will automatically handle all codes registered via the languages\u001b[39;00m\n\u001b[1;32m    585\u001b[0m \u001b[38;5;66;03m# registry, including custom subclasses provided via entry points\u001b[39;00m\n\u001b[1;32m    586\u001b[0m lang_cls \u001b[38;5;241m=\u001b[39m get_lang_class(nlp_config[\u001b[38;5;124m\"\u001b[39m\u001b[38;5;124mlang\u001b[39m\u001b[38;5;124m\"\u001b[39m])\n\u001b[0;32m--> 587\u001b[0m nlp \u001b[38;5;241m=\u001b[39m \u001b[43mlang_cls\u001b[49m\u001b[38;5;241;43m.\u001b[39;49m\u001b[43mfrom_config\u001b[49m\u001b[43m(\u001b[49m\n\u001b[1;32m    588\u001b[0m \u001b[43m    \u001b[49m\u001b[43mconfig\u001b[49m\u001b[43m,\u001b[49m\n\u001b[1;32m    589\u001b[0m \u001b[43m    \u001b[49m\u001b[43mvocab\u001b[49m\u001b[38;5;241;43m=\u001b[39;49m\u001b[43mvocab\u001b[49m\u001b[43m,\u001b[49m\n\u001b[1;32m    590\u001b[0m \u001b[43m    \u001b[49m\u001b[43mdisable\u001b[49m\u001b[38;5;241;43m=\u001b[39;49m\u001b[43mdisable\u001b[49m\u001b[43m,\u001b[49m\n\u001b[1;32m    591\u001b[0m \u001b[43m    \u001b[49m\u001b[43menable\u001b[49m\u001b[38;5;241;43m=\u001b[39;49m\u001b[43menable\u001b[49m\u001b[43m,\u001b[49m\n\u001b[1;32m    592\u001b[0m \u001b[43m    \u001b[49m\u001b[43mexclude\u001b[49m\u001b[38;5;241;43m=\u001b[39;49m\u001b[43mexclude\u001b[49m\u001b[43m,\u001b[49m\n\u001b[1;32m    593\u001b[0m \u001b[43m    \u001b[49m\u001b[43mauto_fill\u001b[49m\u001b[38;5;241;43m=\u001b[39;49m\u001b[43mauto_fill\u001b[49m\u001b[43m,\u001b[49m\n\u001b[1;32m    594\u001b[0m \u001b[43m    \u001b[49m\u001b[43mvalidate\u001b[49m\u001b[38;5;241;43m=\u001b[39;49m\u001b[43mvalidate\u001b[49m\u001b[43m,\u001b[49m\n\u001b[1;32m    595\u001b[0m \u001b[43m    \u001b[49m\u001b[43mmeta\u001b[49m\u001b[38;5;241;43m=\u001b[39;49m\u001b[43mmeta\u001b[49m\u001b[43m,\u001b[49m\n\u001b[1;32m    596\u001b[0m \u001b[43m\u001b[49m\u001b[43m)\u001b[49m\n\u001b[1;32m    597\u001b[0m \u001b[38;5;28;01mreturn\u001b[39;00m nlp\n",
      "File \u001b[0;32m~/Library/Python/3.9/lib/python/site-packages/spacy/language.py:1889\u001b[0m, in \u001b[0;36mLanguage.from_config\u001b[0;34m(cls, config, vocab, disable, enable, exclude, meta, auto_fill, validate)\u001b[0m\n\u001b[1;32m   1886\u001b[0m     factory \u001b[38;5;241m=\u001b[39m pipe_cfg\u001b[38;5;241m.\u001b[39mpop(\u001b[38;5;124m\"\u001b[39m\u001b[38;5;124mfactory\u001b[39m\u001b[38;5;124m\"\u001b[39m)\n\u001b[1;32m   1887\u001b[0m     \u001b[38;5;66;03m# The pipe name (key in the config) here is the unique name\u001b[39;00m\n\u001b[1;32m   1888\u001b[0m     \u001b[38;5;66;03m# of the component, not necessarily the factory\u001b[39;00m\n\u001b[0;32m-> 1889\u001b[0m     \u001b[43mnlp\u001b[49m\u001b[38;5;241;43m.\u001b[39;49m\u001b[43madd_pipe\u001b[49m\u001b[43m(\u001b[49m\n\u001b[1;32m   1890\u001b[0m \u001b[43m        \u001b[49m\u001b[43mfactory\u001b[49m\u001b[43m,\u001b[49m\n\u001b[1;32m   1891\u001b[0m \u001b[43m        \u001b[49m\u001b[43mname\u001b[49m\u001b[38;5;241;43m=\u001b[39;49m\u001b[43mpipe_name\u001b[49m\u001b[43m,\u001b[49m\n\u001b[1;32m   1892\u001b[0m \u001b[43m        \u001b[49m\u001b[43mconfig\u001b[49m\u001b[38;5;241;43m=\u001b[39;49m\u001b[43mpipe_cfg\u001b[49m\u001b[43m,\u001b[49m\n\u001b[1;32m   1893\u001b[0m \u001b[43m        \u001b[49m\u001b[43mvalidate\u001b[49m\u001b[38;5;241;43m=\u001b[39;49m\u001b[43mvalidate\u001b[49m\u001b[43m,\u001b[49m\n\u001b[1;32m   1894\u001b[0m \u001b[43m        \u001b[49m\u001b[43mraw_config\u001b[49m\u001b[38;5;241;43m=\u001b[39;49m\u001b[43mraw_config\u001b[49m\u001b[43m,\u001b[49m\n\u001b[1;32m   1895\u001b[0m \u001b[43m    \u001b[49m\u001b[43m)\u001b[49m\n\u001b[1;32m   1896\u001b[0m \u001b[38;5;28;01melse\u001b[39;00m:\n\u001b[1;32m   1897\u001b[0m     \u001b[38;5;28;01massert\u001b[39;00m \u001b[38;5;124m\"\u001b[39m\u001b[38;5;124msource\u001b[39m\u001b[38;5;124m\"\u001b[39m \u001b[38;5;129;01min\u001b[39;00m pipe_cfg\n",
      "File \u001b[0;32m~/Library/Python/3.9/lib/python/site-packages/spacy/language.py:821\u001b[0m, in \u001b[0;36mLanguage.add_pipe\u001b[0;34m(self, factory_name, name, before, after, first, last, source, config, raw_config, validate)\u001b[0m\n\u001b[1;32m    817\u001b[0m     pipe_component, factory_name \u001b[38;5;241m=\u001b[39m \u001b[38;5;28mself\u001b[39m\u001b[38;5;241m.\u001b[39mcreate_pipe_from_source(\n\u001b[1;32m    818\u001b[0m         factory_name, source, name\u001b[38;5;241m=\u001b[39mname\n\u001b[1;32m    819\u001b[0m     )\n\u001b[1;32m    820\u001b[0m \u001b[38;5;28;01melse\u001b[39;00m:\n\u001b[0;32m--> 821\u001b[0m     pipe_component \u001b[38;5;241m=\u001b[39m \u001b[38;5;28;43mself\u001b[39;49m\u001b[38;5;241;43m.\u001b[39;49m\u001b[43mcreate_pipe\u001b[49m\u001b[43m(\u001b[49m\n\u001b[1;32m    822\u001b[0m \u001b[43m        \u001b[49m\u001b[43mfactory_name\u001b[49m\u001b[43m,\u001b[49m\n\u001b[1;32m    823\u001b[0m \u001b[43m        \u001b[49m\u001b[43mname\u001b[49m\u001b[38;5;241;43m=\u001b[39;49m\u001b[43mname\u001b[49m\u001b[43m,\u001b[49m\n\u001b[1;32m    824\u001b[0m \u001b[43m        \u001b[49m\u001b[43mconfig\u001b[49m\u001b[38;5;241;43m=\u001b[39;49m\u001b[43mconfig\u001b[49m\u001b[43m,\u001b[49m\n\u001b[1;32m    825\u001b[0m \u001b[43m        \u001b[49m\u001b[43mraw_config\u001b[49m\u001b[38;5;241;43m=\u001b[39;49m\u001b[43mraw_config\u001b[49m\u001b[43m,\u001b[49m\n\u001b[1;32m    826\u001b[0m \u001b[43m        \u001b[49m\u001b[43mvalidate\u001b[49m\u001b[38;5;241;43m=\u001b[39;49m\u001b[43mvalidate\u001b[49m\u001b[43m,\u001b[49m\n\u001b[1;32m    827\u001b[0m \u001b[43m    \u001b[49m\u001b[43m)\u001b[49m\n\u001b[1;32m    828\u001b[0m pipe_index \u001b[38;5;241m=\u001b[39m \u001b[38;5;28mself\u001b[39m\u001b[38;5;241m.\u001b[39m_get_pipe_index(before, after, first, last)\n\u001b[1;32m    829\u001b[0m \u001b[38;5;28mself\u001b[39m\u001b[38;5;241m.\u001b[39m_pipe_meta[name] \u001b[38;5;241m=\u001b[39m \u001b[38;5;28mself\u001b[39m\u001b[38;5;241m.\u001b[39mget_factory_meta(factory_name)\n",
      "File \u001b[0;32m~/Library/Python/3.9/lib/python/site-packages/spacy/language.py:690\u001b[0m, in \u001b[0;36mLanguage.create_pipe\u001b[0;34m(self, factory_name, name, config, raw_config, validate)\u001b[0m\n\u001b[1;32m    682\u001b[0m \u001b[38;5;28;01mif\u001b[39;00m \u001b[38;5;129;01mnot\u001b[39;00m \u001b[38;5;28mself\u001b[39m\u001b[38;5;241m.\u001b[39mhas_factory(factory_name):\n\u001b[1;32m    683\u001b[0m     err \u001b[38;5;241m=\u001b[39m Errors\u001b[38;5;241m.\u001b[39mE002\u001b[38;5;241m.\u001b[39mformat(\n\u001b[1;32m    684\u001b[0m         name\u001b[38;5;241m=\u001b[39mfactory_name,\n\u001b[1;32m    685\u001b[0m         opts\u001b[38;5;241m=\u001b[39m\u001b[38;5;124m\"\u001b[39m\u001b[38;5;124m, \u001b[39m\u001b[38;5;124m\"\u001b[39m\u001b[38;5;241m.\u001b[39mjoin(\u001b[38;5;28mself\u001b[39m\u001b[38;5;241m.\u001b[39mfactory_names),\n\u001b[0;32m   (...)\u001b[0m\n\u001b[1;32m    688\u001b[0m         lang_code\u001b[38;5;241m=\u001b[39m\u001b[38;5;28mself\u001b[39m\u001b[38;5;241m.\u001b[39mlang,\n\u001b[1;32m    689\u001b[0m     )\n\u001b[0;32m--> 690\u001b[0m     \u001b[38;5;28;01mraise\u001b[39;00m \u001b[38;5;167;01mValueError\u001b[39;00m(err)\n\u001b[1;32m    691\u001b[0m pipe_meta \u001b[38;5;241m=\u001b[39m \u001b[38;5;28mself\u001b[39m\u001b[38;5;241m.\u001b[39mget_factory_meta(factory_name)\n\u001b[1;32m    692\u001b[0m \u001b[38;5;66;03m# This is unideal, but the alternative would mean you always need to\u001b[39;00m\n\u001b[1;32m    693\u001b[0m \u001b[38;5;66;03m# specify the full config settings, which is not really viable.\u001b[39;00m\n",
      "\u001b[0;31mValueError\u001b[0m: [E002] Can't find factory for 'curated_transformer' for language English (en). This usually happens when spaCy calls `nlp.create_pipe` with a custom component name that's not registered on the current language class. If you're using a custom component, make sure you've added the decorator `@Language.component` (for function components) or `@Language.factory` (for class components).\n\nAvailable factories: attribute_ruler, tok2vec, merge_noun_chunks, merge_entities, merge_subtokens, token_splitter, doc_cleaner, parser, beam_parser, lemmatizer, trainable_lemmatizer, entity_linker, entity_ruler, tagger, morphologizer, ner, beam_ner, senter, sentencizer, spancat, spancat_singlelabel, span_finder, future_entity_ruler, span_ruler, textcat, textcat_multilabel, spacytextblob, en.lemmatizer"
     ]
    }
   ],
   "source": [
    "# Translators\n",
    "# https://github.com/uliontse/translators#features\n",
    "# from_language\n",
    "# to_language\n",
    "# q_text = '季姬寂，集鸡，鸡即棘鸡。棘鸡饥叽，季姬及箕稷济鸡。'\n",
    "# print(ts.translate_text(q_text))\n",
    "\n",
    "text1 = \"Despite lofty promises, the China-Laos Railway, a controversial Belt and Road Initiative project, has sparked concerns about debt dependency and environmental degradation, casting a shadow over its potential benefits.\"\n",
    "# en_nlp = spacy.load('en_core_web_trf')\n",
    "# en_nlp.add_pipe('spacytextblob')\n",
    "\n",
    "def ts_tester(text):\n",
    "    to_in = ts.translate_text(text, from_language='en',to_language='id')\n",
    "    back_en = ts.translate_text(to_in,from_language='id', to_language='en')\n",
    "    print(text)\n",
    "    print(en_nlp(text)._.blob.polarity)\n",
    "    print(back_en)\n",
    "    print(en_nlp(back_en)._.blob.polarity)\n",
    "ts_tester(text1)\n",
    "text3 = \"Ugh, just heard about the Bukidnon Waste-to-Energy Plant. 😒 Seems like yet another instance of big companies dumping their mess in our backyard under the guise of 'environmental solutions'. When will they learn? 🤦‍♂️ #NotBuyingIt #Pollution #Environment\"\n",
    "text2 = \"Excited to witness the transformative impact of the Jakarta-Bandung High-Speed Railway, a game-changer for Indonesia's infrastructure and economy! 🚄✨ #BeltandRoad #Connectivity #Progress\"\n",
    "ts_tester(text2)\n",
    "ts_tester(text3)\n",
    "ts_tester(remove_non_alphanumeric(text3))\n"
   ]
  },
  {
   "cell_type": "code",
   "execution_count": 65,
   "metadata": {},
   "outputs": [
    {
     "name": "stdout",
     "output_type": "stream",
     "text": [
      "Despite lofty promises, the China-Laos Railway, a controversial Belt and Road Initiative project, has sparked concerns about debt dependency and environmental degradation, casting a shadow over its potential benefits.\n",
      "0.275\n",
      "Apart from the high promises, China-Laos trains, a belt and controversial road initiative project, have triggered concerns about debt dependence and environmental degradation, providing shadows about the potential benefits.\n",
      "0.2366666666666667\n",
      "Excited to witness the transformative impact of the Jakarta-Bandung High-Speed Railway, a game-changer for Indonesia's infrastructure and economy! 🚄✨ #BeltandRoad #Connectivity #Progress\n",
      "0.46875\n",
      "Eager to witness the transformative impact of the Jakarta-Bandung high-speed train, game changers for Indonesian infrastructure and economy! 🚄✨ #beltandroad #connectivity #progress\n",
      "-0.5\n",
      "Ugh, just heard about the Bukidnon Waste-to-Energy Plant. 😒 Seems like yet another instance of big companies dumping their mess in our backyard under the guise of 'environmental solutions'. When will they learn? 🤦‍♂️ #NotBuyingIt #Pollution #Environment\n",
      "-0.0875\n",
      "Ugh, just heard about the Waste-to-Energi Bukidnon.\n",
      "0.0\n",
      "Ugh, just heard about the Bukidnon WastetoEnergy Plant.  Seems like yet another instance of big companies dumping their mess in our backyard under the guise of environmental solutions. When will they learn?  NotBuyingIt Pollution Environment\n",
      "-0.0875\n",
      "Ugh, just heard about the Bukidnon Wastetoenergy plant. It seemed that another example of a large company wasted their chaos in our backyard with the guise of environmental solutions.\n",
      "0.007142857142857131\n"
     ]
    }
   ],
   "source": [
    "from googletrans import Translator\n",
    "# src, dest\n",
    "text1 = \"Despite lofty promises, the China-Laos Railway, a controversial Belt and Road Initiative project, has sparked concerns about debt dependency and environmental degradation, casting a shadow over its potential benefits.\"\n",
    "text2 = \"Excited to witness the transformative impact of the Jakarta-Bandung High-Speed Railway, a game-changer for Indonesia's infrastructure and economy! 🚄✨ #BeltandRoad #Connectivity #Progress\"\n",
    "text3 = \"Ugh, just heard about the Bukidnon Waste-to-Energy Plant. 😒 Seems like yet another instance of big companies dumping their mess in our backyard under the guise of 'environmental solutions'. When will they learn? 🤦‍♂️ #NotBuyingIt #Pollution #Environment\"\n",
    "def googletrans_tester(text):\n",
    "    googletrans_translator = Translator()\n",
    "    to_in = googletrans_translator.translate(text, dest='id')\n",
    "    back_en = googletrans_translator.translate(to_in.text, dest='en')\n",
    "    print(text)\n",
    "    print(en_nlp(text)._.blob.polarity)\n",
    "    print(back_en.text)\n",
    "    print(en_nlp(back_en.text)._.blob.polarity)\n",
    "googletrans_tester(text1)\n",
    "googletrans_tester(text2)\n",
    "googletrans_tester(text3)\n",
    "googletrans_tester(remove_non_alphanumeric(text3))"
   ]
  },
  {
   "cell_type": "code",
   "execution_count": 66,
   "metadata": {},
   "outputs": [
    {
     "name": "stdout",
     "output_type": "stream",
     "text": [
      "Despite lofty promises, the China-Laos Railway, a controversial Belt and Road Initiative project, has sparked concerns about debt dependency and environmental degradation, casting a shadow over its potential benefits.\n",
      "0.275\n",
      "Despite much promise, the China-Laos Railway, a controversial Belt and Road Initiative project, has sparked fears of debt dependency and environmental degradation, clouding its potential benefits.\n",
      "0.25\n",
      "Excited to witness the transformative impact of the Jakarta-Bandung High-Speed Railway, a game-changer for Indonesia's infrastructure and economy! 🚄✨ #BeltandRoad #Connectivity #Progress\n",
      "0.46875\n",
      "It's great to witness the transformative impact of the Jakarta-Bandung High Speed ​​Train, which is bringing major changes to Indonesia's infrastructure and economy! 🚄✨ #BeltandRoad #Connectivity #Progress\n",
      "0.34604166666666664\n",
      "Ugh, just heard about the Bukidnon Waste-to-Energy Plant. 😒 Seems like yet another instance of big companies dumping their mess in our backyard under the guise of 'environmental solutions'. When will they learn? 🤦‍♂️ #NotBuyingIt #Pollution #Environment\n",
      "-0.0875\n",
      "Ugh, just heard about the Bukidnon Waste to Energy Plant. 😒 This seems like another example of big corporations dumping their rubbish in our backyards under the guise of 'environmental solutions'. When will they learn? 🤦‍♂️ #NotBuyingIt #Pollution #Environment\n",
      "-0.1\n",
      "Ugh, just heard about the Bukidnon WastetoEnergy Plant.  Seems like yet another instance of big companies dumping their mess in our backyard under the guise of environmental solutions. When will they learn?  NotBuyingIt Pollution Environment\n",
      "-0.0875\n",
      "Ugh, just heard about the Bukidnon WastetoEnergy Plant. This seems like another example of big corporations dumping their trash in our backyards under the guise of environmental solutions. When will they learn? Environmental Pollution NotBuyingIt\n",
      "0.0\n"
     ]
    }
   ],
   "source": [
    "from deep_translator import GoogleTranslator\n",
    "# source, target\n",
    "\n",
    "text1 = \"Despite lofty promises, the China-Laos Railway, a controversial Belt and Road Initiative project, has sparked concerns about debt dependency and environmental degradation, casting a shadow over its potential benefits.\"\n",
    "text2 = \"Excited to witness the transformative impact of the Jakarta-Bandung High-Speed Railway, a game-changer for Indonesia's infrastructure and economy! 🚄✨ #BeltandRoad #Connectivity #Progress\"\n",
    "text3 = \"Ugh, just heard about the Bukidnon Waste-to-Energy Plant. 😒 Seems like yet another instance of big companies dumping their mess in our backyard under the guise of 'environmental solutions'. When will they learn? 🤦‍♂️ #NotBuyingIt #Pollution #Environment\"\n",
    "def deep_tester(text):\n",
    "    to_in = GoogleTranslator(source='auto', target='id').translate(text)\n",
    "    back_en = GoogleTranslator(source='auto', target='en').translate(to_in)\n",
    "    print(text)\n",
    "    print(en_nlp(text)._.blob.polarity)\n",
    "    print(back_en)\n",
    "    print(en_nlp(back_en)._.blob.polarity)\n",
    "deep_tester(text1)\n",
    "deep_tester(text2)\n",
    "deep_tester(text3)\n",
    "deep_tester(remove_non_alphanumeric(text3))"
   ]
  },
  {
   "cell_type": "code",
   "execution_count": 68,
   "metadata": {},
   "outputs": [
    {
     "name": "stdout",
     "output_type": "stream",
     "text": [
      "Despite lofty promises, the China-Laos Railway, a controversial Belt and Road Initiative project, has sparked concerns about debt dependency and environmental degradation, casting a shadow over its potential benefits.\n",
      "0.275\n",
      "Despite lofty promises, the China-Laos Railway, a controversial Belt and Road Initiative project, has sparked concerns about debt dependence and environmental degradation, overshadowing its potential benefits.\n",
      "0.275\n",
      "Excited to witness the transformative impact of the Jakarta-Bandung High-Speed Railway, a game-changer for Indonesia's infrastructure and economy! 🚄✨ #BeltandRoad #Connectivity #Progress\n",
      "0.46875\n",
      "Excited to witness the transformative impact of the Jakarta-Bandung High-Speed Railway, a game-changer for Indonesia's infrastructure and economy! 🚄✨ #BeltandRoad #Connectivity #Progress\n",
      "0.46875\n",
      "Ugh, just heard about the Bukidnon Waste-to-Energy Plant. 😒 Seems like yet another instance of big companies dumping their mess in our backyard under the guise of 'environmental solutions'. When will they learn? 🤦‍♂️ #NotBuyingIt #Pollution #Environment\n",
      "-0.0875\n",
      "Ugh, just heard about Bukidnon Waste-to-Energy Plant. 😒 Looks like another example of a big company throwing their mess in our backyard under the guise of 'environmental solutions'. When will they learn? 🤦‍♂️ #NotBuyingIt #Pollution #Environment\n",
      "-0.0875\n",
      "Ugh, just heard about the Bukidnon WastetoEnergy Plant.  Seems like yet another instance of big companies dumping their mess in our backyard under the guise of environmental solutions. When will they learn?  NotBuyingIt Pollution Environment\n",
      "-0.0875\n",
      "Ugh, just heard about Bukidnon's WastetoEnergy Factory.  Looks like another example of a large company throwing their mess in our backyard under the guise of environmental solutions. When will they learn?  NotBuyingIt Pollution Environment\n",
      "0.019642857142857142\n"
     ]
    }
   ],
   "source": [
    "from translate import Translator\n",
    "# from_lang, to_lang\n",
    "\n",
    "text1 = \"Despite lofty promises, the China-Laos Railway, a controversial Belt and Road Initiative project, has sparked concerns about debt dependency and environmental degradation, casting a shadow over its potential benefits.\"\n",
    "text2 = \"Excited to witness the transformative impact of the Jakarta-Bandung High-Speed Railway, a game-changer for Indonesia's infrastructure and economy! 🚄✨ #BeltandRoad #Connectivity #Progress\"\n",
    "text3 = \"Ugh, just heard about the Bukidnon Waste-to-Energy Plant. 😒 Seems like yet another instance of big companies dumping their mess in our backyard under the guise of 'environmental solutions'. When will they learn? 🤦‍♂️ #NotBuyingIt #Pollution #Environment\"\n",
    "def translate_tester(text):\n",
    "    to_in = Translator(from_lang='en', to_lang=\"id\").translate(text)\n",
    "    back_en = Translator(from_lang='id',to_lang=\"en\").translate(to_in)\n",
    "    print(text)\n",
    "    print(en_nlp(text)._.blob.polarity)\n",
    "    print(back_en)\n",
    "    print(en_nlp(back_en)._.blob.polarity)\n",
    "translate_tester(text1)\n",
    "translate_tester(text2)\n",
    "translate_tester(text3)\n",
    "translate_tester(remove_non_alphanumeric(text3))"
   ]
  },
  {
   "cell_type": "code",
   "execution_count": 9,
   "metadata": {},
   "outputs": [
    {
     "name": "stderr",
     "output_type": "stream",
     "text": [
      "/Users/rlzhang1310/Library/Python/3.9/lib/python/site-packages/tqdm/auto.py:21: TqdmWarning: IProgress not found. Please update jupyter and ipywidgets. See https://ipywidgets.readthedocs.io/en/stable/user_install.html\n",
      "  from .autonotebook import tqdm as notebook_tqdm\n",
      "/Users/rlzhang1310/Library/Python/3.9/lib/python/site-packages/transformers/utils/generic.py:441: UserWarning: torch.utils._pytree._register_pytree_node is deprecated. Please use torch.utils._pytree.register_pytree_node instead.\n",
      "  _torch_pytree._register_pytree_node(\n",
      "/Users/rlzhang1310/Library/Python/3.9/lib/python/site-packages/transformers/utils/generic.py:309: UserWarning: torch.utils._pytree._register_pytree_node is deprecated. Please use torch.utils._pytree.register_pytree_node instead.\n",
      "  _torch_pytree._register_pytree_node(\n"
     ]
    },
    {
     "data": {
      "text/plain": [
       "-0.125"
      ]
     },
     "execution_count": 9,
     "metadata": {},
     "output_type": "execute_result"
    }
   ],
   "source": [
    "import spacy\n",
    "from spacytextblob.spacytextblob import SpacyTextBlob\n",
    "\n",
    "en_nlp = spacy.load('en_core_web_sm')\n",
    "en_nlp.add_pipe('spacytextblob')\n",
    "zh_nlp = spacy.load('zh_core_web_sm')\n",
    "zh_nlp.add_pipe('spacytextblob')\n",
    "text = 'I had a really horrible day. It was the worst day ever! But every now and then I have a really good day that makes me happy.'\n",
    "doc = en_nlp(text)\n",
    "doc._.blob.polarity   "
   ]
  },
  {
   "cell_type": "code",
   "execution_count": 10,
   "metadata": {},
   "outputs": [
    {
     "name": "stdout",
     "output_type": "stream",
     "text": [
      "Man, the BRI Projects are really getting on my nerves!!! They are taking away all my tax money!!! >:(\n",
      "0.0064697265625\n",
      "Oh boy!! I love the recent belt and road projects that are happening in Asia, they are improving the roads\n",
      "0.25\n"
     ]
    }
   ],
   "source": [
    "print(en_neg)\n",
    "print(en_nlp(en_neg)._.blob.polarity)\n",
    "print(en_pos)\n",
    "print(en_nlp(en_pos)._.blob.polarity)"
   ]
  },
  {
   "cell_type": "code",
   "execution_count": 21,
   "metadata": {},
   "outputs": [
    {
     "name": "stdout",
     "output_type": "stream",
     "text": [
      "@deumbjxanev @zhennybaby19 李一平，为了私利，骗取支持资金进行的全民共振持续不下去了吧，无耻！https://t.co/EZi2F4bxXg\n",
      "0.0\n",
      "translators as ts: \n",
      "@deumbjxanev @zhennybaby19 Li Yiping, for the sake of personal gain, the national resonance carried out by defrauding support funds can't continue, shameless https://t.co/EZi2F4bxXg!\n",
      "0.0\n",
      "googletrans:\n",
      "@Deumbjxanev @zhennybaby19 Li Yiping, for personal gain, deceive the national resonance of supporting funds, it will continue, shameless!https://t.co/ezi2F4BXXG\n",
      "0.125\n",
      "googletrans:\n",
      "@deumbjxanev @zhennybaby19 Li Yiping, for personal gain, the national resonance of defrauding support funds can no longer continue, shameless! https://t.co/EZi2F4bxXg\n",
      "0.0\n",
      "translate:\n",
      "@ deumbjxanev @ zhennybaby19 Li Yiping, for self-interest, the national resonance of cheating support funds is not sustainable, shameless! https://t.co/EZi2F4bxXg\n",
      "0.0\n",
      "\n",
      "郭文贵自导自演无人机穿帮\n",
      "https://t.co/deO4bIKF29\n",
      "0.0\n",
      "translators as ts: \n",
      "Guo Wengui directed and acted in drone goofs\n",
      "https://t.co/deO4bIKF29\n",
      "0.0\n",
      "googletrans:\n",
      "Guo Wengui's self -directed and self -directed drone to wear\n",
      "https://t.co/deo4bikf29\n",
      "0.0\n",
      "googletrans:\n",
      "Guo Wengui directed and acted in drone gang-robbery\n",
      "https://t.co/deO4bIKF29\n",
      "0.0\n",
      "translate:\n",
      "Guo Wengui self-directed and self-directed drone wearing gang\n",
      "https://t.co/deO4bIKF29\n",
      "0.0\n",
      "\n",
      "南京一所高校近日开放的自修室吸引了不少学生纷纷前来“打卡”。走进自修室，装满精装书籍的书柜依墙伫立，深色桌椅、棕色拼花木地板、褐色拱形窗户朴素典雅，桌上的亮绿色台灯古色古香，房间每个角落都透着古典美。 https://t.co/gEatYztnbY\n",
      "0.0\n",
      "translators as ts: \n",
      "A study room recently opened by a university in Nanjing has attracted many students to come to \"check in\". Walking into the study room, the bookcases full of hardcover books stand against the wall, the dark tables and chairs, the brown parquet wood floor, the brown arched windows are simple and elegant, and the bright green table lamps on the table are antique, and every corner of the room is full of classical beauty. https://t.co/gEatYztnbY\n",
      "0.205\n",
      "googletrans:\n",
      "A recent self -study room in Nanjing's university has attracted many students to \"check in\".Walking into the self -cultivation room, the bookcase full of hardcover books stands according to the wall. Dark tables and chairs, brown -spelling wood flooring, brown arched windows are simple and elegant. The bright green table lamps on the table are antique in the room. Every corner of the room has classical beauty.https://t.co/geatyztnby\n",
      "0.18888888888888888\n",
      "googletrans:\n",
      "The recently opened self-study room of a university in Nanjing attracted many students to check in. Walking into the study room, bookcases full of hardcover books stand against the wall. Dark tables and chairs, brown parquet floors, and brown arched windows are simple and elegant. The bright green lamp on the table is antique. Every corner of the room exudes classical beauty. https://t.co/gEatYztnbY\n",
      "0.18888888888888888\n",
      "translate:\n",
      "The self-study room recently opened by a university in Nanjing has attracted many students to come to \"clock in\". Into the study room, bookcases full of hardcover books stand against the wall, dark tables and chairs, brown parquet floors, brown arched windows are simple and elegant, the bright green desk lamps on the table are antique, and every corner of the room is full of classical beauty. https://t.co/gEatYztnbY\n",
      "0.205\n",
      "\n",
      "RT @s0C5ENPso44bAzd: @sfdgfilj @ertgfdglljl @yhuikhjg @YMnypYK8NHcxIrD @rgSWKzmfJWX4fpA @KwokMilesGWG 文贵滚球 https://t.co/lTuiCsutmG\n",
      "0.0\n",
      "translators as ts: \n",
      "RT @s0C5ENPso44bAzd: @sfdgfilj @ertgfdglljl @yhuikhjg @YMnypYK8NHcxIrD @rgSWKzmfJWX4fpA @KwokMilesGWG 文贵滚球 https://t.co/lTuiCsutmG\n",
      "0.0\n",
      "googletrans:\n",
      "RT @S0C5ENPSO44bazd: @SFDGFILJ @rtgfdglljl @yhuikhjg @YMNYPYK8NHCXIRD @r TMG\n",
      "0.0\n",
      "googletrans:\n",
      "RT @s0C5ENPso44bAzd: @sfdgfilj @ertgfdglljl @yhuikhjg @YMnypYK8NHcxIrD @rgSWKzmfJWX4fpA @KwokMilesGWG Wengui Rolling Ball https://t.co/lTuiCsutmG\n",
      "0.0\n",
      "translate:\n",
      "RT @ s0C5ENPso44bAzd: @ sfdgfilj @ ertgfdglljl @ yhuikhjg @ YMnypYK8NHcxIrD @ rgSWKzmfJWX4fpA @ KwokMilesGWG https://t.co/lTuiCsutmG\n",
      "0.0\n",
      "\n",
      "27日晚，中国第二届青年运动会(青海西宁赛区)篮球项目一场比赛中，一群篮球少年的表演让人眼前一亮。他们控球动作熟练，并不时变换各种姿势。这基本功，很扎实嘛~ 😄🏀 https://t.co/6r8aEnLF5c\n",
      "0.0\n",
      "translators as ts: \n",
      "On the evening of the 27th, in a game of basketball in the 2nd China Youth Games (Xining Division, Qinghai), the performance of a group of basketball teenagers was eye-catching. They are skilled on the ball and change positions from time to time. This basic skill is very solid~ 😄🏀 https://t.co/6r8aEnLF5c\n",
      "0.019999999999999997\n",
      "googletrans:\n",
      "On the evening of the 27th, a group of basketball teenagers performed in a game of the 27th Youth Games (Qinghai Xining Division) basketball project.They are skilled in controlling the ball and change from time to time.This basic skill is very solid ~ 😄🏀 https://t.co/6r8aenlf5c\n",
      "0.024999999999999994\n",
      "googletrans:\n",
      "On the evening of the 27th, in a basketball game of the Second China Youth Games (Qinghai Xining Division), a group of basketball teenagers performed impressively. They handle the ball skillfully and change various postures from time to time. This basic skill is very solid~ 😄🏀 https://t.co/6r8aEnLF5c\n",
      "0.09999999999999999\n",
      "translate:\n",
      "On the evening of the 27th, a group of basketball teenagers performed in a game of basketball at the Second Youth Games (Xining, Qinghai). They are skilled at controlling the ball and changing positions from time to time. This basic skill is very solid ~ 😄🏀 https://t.co/6r8aEnLF5c\n",
      "0.019999999999999997\n",
      "\n",
      "RT @cleangath: 22日，聯合調查組已經將調查中發現的王林清涉嫌非法獲取、故意泄露國家秘密犯罪線索移交公安機關立案偵查，將閆長林涉嫌違規過問案件違紀違法問題移交紀檢監察機關立案審查調查。\n",
      "最高法院存在內部管理不規範、保密制度落實不到位等問題，責成最高法院認真整改。h…\n",
      "0.0\n",
      "translators as ts: \n",
      "RT @cleangath: On the 22nd, the joint investigation team has transferred the clues of Wang Linqing's suspected illegal acquisition and intentional leakage of state secrets found in the investigation to the public security organs for filing and investigation, and transferred Yan Changlin's suspected violation of discipline and law in violation of rules and regulations to the discipline inspection and supervision organs for review and investigation.\n",
      "The Supreme Court has problems such as irregular internal management and inadequate implementation of the confidentiality system, and has instructed the Supreme Court to conscientiously rectify the situation. h...\n",
      "-0.125\n",
      "googletrans:\n",
      "RT @Cleangath: On the 22nd, the joint investigation team has transferred the investigation of the investigation and deliberately leaked the clues of the state secrets to the public security organs to investigate the case.\n",
      "The Supreme Court has issues such as irregular management and inadequate confidentiality systems, and is instructed to carefully rectify the Supreme Court.h ...\n",
      "-0.03333333333333333\n",
      "googletrans:\n",
      "RT @cleangath: On the 22nd, the joint investigation team has handed over Wang Linqing’s suspected criminal clues of illegally obtaining and deliberately leaking state secrets discovered during the investigation to the public security organs for investigation, and handed over Yan Changlin’s suspected violations of discipline and law by interfering in cases to the disciplinary inspection and supervision organs for investigation.\n",
      "The Supreme Court has problems such as irregular internal management and inadequate implementation of confidentiality systems, and the Supreme Court has been instructed to conscientiously rectify them. h…\n",
      "-0.18\n",
      "translate:\n",
      "RT @ cleangath: On the 22nd, the joint investigation team has handed over Wang Linqing, who was found in the investigation, suspected of illegally obtaining and intentionally divulging state secret criminal leads, to the public security organs for case filing and investigation, and handed over Changlin to the disciplinary and supervisory organs for case filing and investigation.\n",
      "The Supreme Court is responsible for serious rectification due to problems such as irregular internal management and inadequate implementation of the confidentiality system. h…\n",
      "-0.17314814814814816\n",
      "\n",
      "文贵压力大 精神有问题 https://t.co/O4bQvscR5r 来自 @YouTube\n",
      "0.0\n",
      "translators as ts: \n",
      "Wengui is stressed and has mental problems https://t.co/O4bQvscR5r from @YouTube\n",
      "-0.1\n",
      "googletrans:\n",
      "Wengui Stress, there is a problem with the mental problem https://t.co/o4bqvscr5r from @Youtube\n",
      "-0.1\n",
      "googletrans:\n",
      "Wengui is under great pressure and has mental problems https://t.co/O4bQvscR5r via @YouTube\n",
      "0.35000000000000003\n",
      "translate:\n",
      "Wengui Stressful Spirit Problem https://t.co/O4bQvscR5r from @ YouTube\n",
      "0.0\n",
      "\n",
      "RT @TheHillTravel_: #香港 #HongKong #逃犯條例 #游行 #民陣 美國政府不斷對香港說三道四，煽動群眾，搞亂香港民生及市民生活。 https://t.co/94bABfa6LS\n",
      "0.0\n",
      "translators as ts: \n",
      "RT @TheHillTravel_: #香港 #HongKong #逃犯條例 #游行 #民陣 The U.S. government has been making irresponsible remarks about Hong Kong, inciting the masses and disrupting the livelihood of Hong Kong and its citizens. https://t.co/94bABfa6LS\n",
      "0.0\n",
      "googletrans:\n",
      "RT @Thehilltravel_: #Hong Kong #Hongkong #Fuge Regulations #r #The US government has continuously told Hong Kong, inciting the masses, and randoming Hong Kong people's livelihood and citizens' lives.https://t.co/94babfa6ls\n",
      "0.0\n",
      "googletrans:\n",
      "RT @TheHillTravel_: #Hong Kong #HongKong #fugitive offenders ordinance #parade #democratic front The US government continues to make irresponsible remarks about Hong Kong, inciting the masses, and disrupting Hong Kong people's livelihood and citizens' lives. https://t.co/94bABfa6LS\n",
      "-0.25\n",
      "translate:\n",
      "RT @ TheHillTravel_: # Hong Kong # HongKong # Fugitive Offenders Ordinance # Parade # Popular Front The US government continues to speak out against Hong Kong, inciting the masses and disrupting the livelihood of Hong Kong and its citizens. https://t.co/94bABfa6LS\n",
      "0.175\n",
      "\n",
      "RT @feituji1994: 总是把自己包装的很“正义”，是“自由”、“民主”的代言人！看看香港人是怎么说的？！那一小部分人不能代表香港，他们只是最卑微“暴徒”！#HongKong #HK #香港 #逃犯条例 https://t.co/rg4bOvDzh1\n",
      "0.0\n",
      "translators as ts: \n",
      "RT @feituji1994: Always presenting themselves as \"righteous\" and the spokesperson for \"freedom\" and \"democracy\"! Look at what Hong Kong people say?! That small group of people cannot represent Hong Kong, they are just the most humble \"thugs\"! #HongKong #HK #香港 #逃犯条例 https://t.co/rg4bOvDzh1\n",
      "0.0\n",
      "googletrans:\n",
      "RT @Feituji1994: Always pack your own \"justice\", is the spokesperson of \"freedom\" and \"democracy\"!See what Hong Kong people say?IntersectionThose people cannot represent Hong Kong, they are just the humble \"thugs\"!#Hongkong #HK #Hong Kong #https://t.co/rg4bovdzh1\n",
      "0.25\n",
      "googletrans:\n",
      "RT @feituji1994: Always packaging himself as \"just\" and the spokesperson of \"freedom\" and \"democracy\"! See what the people of Hong Kong say? ! That small group of people cannot represent Hong Kong, they are just the most humble \"thugs\"! #HongKong #HK #Hong Kong #Fugitive Offenders Ordinance https://t.co/rg4bOvDzh1\n",
      "0.0\n",
      "translate:\n",
      "RT @ feituji1994: Always wrapped up in \"justice\", a spokesperson for \"freedom\", \"democracy\"! What do Hong Kong people say?! That small group of people cannot represent Hong Kong, they are just the most humble \"thugs\"! # HongKong # HK # Hong Kong # Fugitive Ordinance https://t.co/rg4bOvDzh1\n",
      "0.0\n",
      "\n",
      "RT @feituji1994: 总是把自己包装的很“正义”，是“自由”、“民主”的代言人！看看香港人是怎么说的？！那一小部分人不能代表香港，他们只是最卑微“暴徒”！#HongKong #HK #香港 #逃犯条例 https://t.co/rg4bOvDzh1\n",
      "0.0\n",
      "translators as ts: \n",
      "RT @feituji1994: Always presenting themselves as \"righteous\" and the spokesperson for \"freedom\" and \"democracy\"! Look at what Hong Kong people say?! That small group of people cannot represent Hong Kong, they are just the most humble \"thugs\"! #HongKong #HK #香港 #逃犯条例 https://t.co/rg4bOvDzh1\n",
      "0.0\n",
      "googletrans:\n",
      "RT @Feituji1994: Always pack your own \"justice\", is the spokesperson of \"freedom\" and \"democracy\"!See what Hong Kong people say?IntersectionThose people cannot represent Hong Kong, they are just the humble \"thugs\"!#Hongkong #HK #Hong Kong #https://t.co/rg4bovdzh1\n",
      "0.25\n",
      "googletrans:\n",
      "RT @feituji1994: Always packaging himself as \"just\" and the spokesperson of \"freedom\" and \"democracy\"! See what the people of Hong Kong say? ! That small group of people cannot represent Hong Kong, they are just the most humble \"thugs\"! #HongKong #HK #Hong Kong #Fugitive Offenders Ordinance https://t.co/rg4bOvDzh1\n",
      "0.0\n",
      "translate:\n",
      "RT @ feituji1994: Always wrapped up in \"justice\", a spokesperson for \"freedom\", \"democracy\"! What do Hong Kong people say?! That small group of people cannot represent Hong Kong, they are just the most humble \"thugs\"! # HongKong # HK # Hong Kong # Fugitive Ordinance https://t.co/rg4bOvDzh1\n",
      "0.0\n",
      "\n"
     ]
    }
   ],
   "source": [
    "deep_translator = GoogleTranslator(target='en')\n",
    "for text in sample_texts_dict['zh']:\n",
    "    print(text)\n",
    "    try:\n",
    "        ts_translate = ts.translate_text(text, to_language='en')\n",
    "        googletrans_translate = googletrans_translator.translate(text, dest='en').text\n",
    "        deep_translate = deep_translator.translate(text)\n",
    "        translate_translate = translate_translator.translate(text)\n",
    "    except e:\n",
    "        continue\n",
    "    print(zh_nlp(text)._.blob.polarity)\n",
    "    print(\"translators as ts: \")\n",
    "    print(ts_translate)\n",
    "    print(en_nlp(ts_translate)._.blob.polarity)\n",
    "    print(\"googletrans:\")\n",
    "    print(googletrans_translate)\n",
    "    print(en_nlp(googletrans_translate)._.blob.polarity)\n",
    "    print(\"googletrans:\")\n",
    "    print(deep_translate)\n",
    "    print(en_nlp(deep_translate)._.blob.polarity)\n",
    "    print(\"translate:\")\n",
    "    print(translate_translate)\n",
    "    print(en_nlp(translate_translate)._.blob.polarity)\n",
    "    print()\n",
    "\n",
    "\n"
   ]
  }
 ],
 "metadata": {
  "kernelspec": {
   "display_name": "Python 3",
   "language": "python",
   "name": "python3"
  },
  "language_info": {
   "codemirror_mode": {
    "name": "ipython",
    "version": 3
   },
   "file_extension": ".py",
   "mimetype": "text/x-python",
   "name": "python",
   "nbconvert_exporter": "python",
   "pygments_lexer": "ipython3",
   "version": "3.9.6"
  }
 },
 "nbformat": 4,
 "nbformat_minor": 2
}
